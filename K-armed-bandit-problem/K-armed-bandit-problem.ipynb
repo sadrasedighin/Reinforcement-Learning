{
 "cells": [
  {
   "cell_type": "code",
   "execution_count": 1,
   "id": "b0914001-1595-44b1-9cce-5a4ff42d6e8b",
   "metadata": {},
   "outputs": [],
   "source": [
    "import numpy as np "
   ]
  },
  {
   "cell_type": "code",
   "execution_count": 19,
   "id": "7e96f421-59cd-4353-9a5e-e99303bd2dfe",
   "metadata": {},
   "outputs": [],
   "source": [
    "true_means = np.array([0.2,1,10,3,5]); "
   ]
  },
  {
   "cell_type": "code",
   "execution_count": 20,
   "id": "f666778b-73ec-43a0-992c-09f72f5bb20d",
   "metadata": {},
   "outputs": [],
   "source": [
    "Q = np.zeros(5);\n",
    "eps = 0.1"
   ]
  },
  {
   "cell_type": "code",
   "execution_count": 21,
   "id": "07334064-8383-4b21-9af6-fd3d8e235bb6",
   "metadata": {},
   "outputs": [
    {
     "data": {
      "text/plain": [
       "np.int64(0)"
      ]
     },
     "execution_count": 21,
     "metadata": {},
     "output_type": "execute_result"
    }
   ],
   "source": [
    "Q.argmax()"
   ]
  },
  {
   "cell_type": "code",
   "execution_count": 22,
   "id": "0daa5ec4-e76a-42b2-a28d-5cfe156637b4",
   "metadata": {},
   "outputs": [],
   "source": [
    "N = np.zeros(5);\n",
    "S = np.zeros(5)"
   ]
  },
  {
   "cell_type": "code",
   "execution_count": null,
   "id": "3e50b8d9-a08c-40ac-b248-535eed4c1e72",
   "metadata": {},
   "outputs": [],
   "source": []
  },
  {
   "cell_type": "code",
   "execution_count": 23,
   "id": "1e3533de-dee3-4ce4-9762-5387398576e2",
   "metadata": {},
   "outputs": [],
   "source": [
    "for _ in range(10000): \n",
    "    if np.random.uniform()<eps : \n",
    "        action = np.random.randint(low=0,high=5,size=1)[0]; \n",
    "    else : action = Q.argmax(); \n",
    "    reward = np.random.normal(loc = true_means[action]); \n",
    "    N[action]+=1; \n",
    "    S[action]+=reward; \n",
    "    Q[action] = S[action]/N[action];"
   ]
  },
  {
   "cell_type": "code",
   "execution_count": 24,
   "id": "3b8b272b-425c-461b-b6d1-4712352fa5cf",
   "metadata": {},
   "outputs": [
    {
     "data": {
      "text/plain": [
       "array([ 0.27301241,  1.05383397, 10.00970578,  2.97438955,  5.01294301])"
      ]
     },
     "execution_count": 24,
     "metadata": {},
     "output_type": "execute_result"
    }
   ],
   "source": [
    "Q"
   ]
  },
  {
   "cell_type": "code",
   "execution_count": 34,
   "id": "ad8e3d7c-c5e2-4498-9520-995f26360526",
   "metadata": {},
   "outputs": [
    {
     "name": "stdout",
     "output_type": "stream",
     "text": [
      "59873\n"
     ]
    }
   ],
   "source": [
    "c = 0; \n",
    "for i in range(100000): \n",
    "    c+=np.random.binomial(1,p=0.6)\n",
    "print(c)"
   ]
  },
  {
   "cell_type": "code",
   "execution_count": 35,
   "id": "23efe7c8-2614-449e-8919-bb851d177619",
   "metadata": {},
   "outputs": [
    {
     "name": "stdout",
     "output_type": "stream",
     "text": [
      "0.59873\n"
     ]
    }
   ],
   "source": [
    "print(c/100000)"
   ]
  },
  {
   "cell_type": "code",
   "execution_count": 37,
   "id": "1a973437-7fc6-41a2-8f7b-a9ae89619911",
   "metadata": {},
   "outputs": [
    {
     "name": "stdout",
     "output_type": "stream",
     "text": [
      "600164\n"
     ]
    }
   ],
   "source": [
    "c = 0; \n",
    "for i in range(1000000): \n",
    "    c+=np.random.binomial(1,p=0.6)\n",
    "print(c)"
   ]
  },
  {
   "cell_type": "code",
   "execution_count": 38,
   "id": "99ccb9d4-b221-436d-ba86-de461d35d74f",
   "metadata": {},
   "outputs": [
    {
     "name": "stdout",
     "output_type": "stream",
     "text": [
      "799887\n"
     ]
    }
   ],
   "source": [
    "c = 0; \n",
    "for i in range(1000000): \n",
    "    c+=np.random.binomial(1,p=0.8)\n",
    "print(c)"
   ]
  },
  {
   "cell_type": "code",
   "execution_count": 39,
   "id": "8c77d186-bb37-4fee-8256-6a00cb6be58a",
   "metadata": {},
   "outputs": [
    {
     "name": "stdout",
     "output_type": "stream",
     "text": [
      "499629.13019133103\n"
     ]
    }
   ],
   "source": [
    "c = 0; \n",
    "for i in range(1000000): \n",
    "    c+=np.random.uniform()\n",
    "print(c)"
   ]
  },
  {
   "cell_type": "code",
   "execution_count": 40,
   "id": "77c0c9e0-bbfd-44bf-8cba-dc5d42bed294",
   "metadata": {},
   "outputs": [
    {
     "data": {
      "text/plain": [
       "0.49962913019133104"
      ]
     },
     "execution_count": 40,
     "metadata": {},
     "output_type": "execute_result"
    }
   ],
   "source": [
    "c/1000000"
   ]
  },
  {
   "cell_type": "code",
   "execution_count": null,
   "id": "a72b702e-161e-42fa-a4f6-e2f369568f7d",
   "metadata": {},
   "outputs": [],
   "source": []
  },
  {
   "cell_type": "code",
   "execution_count": null,
   "id": "8cf15c5d-6721-49aa-a50c-8cc2d064e346",
   "metadata": {},
   "outputs": [],
   "source": [
    "##### ########"
   ]
  },
  {
   "cell_type": "code",
   "execution_count": 41,
   "id": "e2956bfa-a1de-48be-8141-317c807ec19c",
   "metadata": {},
   "outputs": [
    {
     "name": "stdin",
     "output_type": "stream",
     "text": [
      "Advertisement number 1 1\n",
      "Advertisement number 1 1\n",
      "Advertisement number 1 1\n",
      "Advertisement number 1 0\n",
      "Advertisement number 2 0\n",
      "Advertisement number 2 1\n",
      "Advertisement number 2 1\n",
      "Advertisement number 2 0\n",
      "Advertisement number 2 1\n",
      "Advertisement number 2 0\n",
      "Advertisement number 2 0\n",
      "Advertisement number 1 0\n",
      "Advertisement number 2 1\n",
      "Advertisement number 1 1\n",
      "Advertisement number 1 1\n",
      "Advertisement number 1 1\n",
      "Advertisement number 1 1\n",
      "Advertisement number 3 1\n",
      "Advertisement number 1 1\n",
      "Advertisement number 3 1\n",
      "Advertisement number 1 1\n",
      "Advertisement number 3 1\n",
      "Advertisement number 3 0\n",
      "Advertisement number 2 1\n",
      "Advertisement number 1 0\n",
      "Advertisement number 3 1\n",
      "Advertisement number 2 0\n",
      "Advertisement number 3 1\n",
      "Advertisement number 2 0\n",
      "Advertisement number 1 0\n",
      "Advertisement number 3 1\n",
      "Advertisement number 3 1\n",
      "Advertisement number 1 1\n",
      "Advertisement number 3 0\n",
      "Advertisement number 2 1\n",
      "Advertisement number 2 1\n",
      "Advertisement number 3 0\n",
      "Advertisement number 1 1\n"
     ]
    },
    {
     "ename": "KeyboardInterrupt",
     "evalue": "Interrupted by user",
     "output_type": "error",
     "traceback": [
      "\u001b[1;31m---------------------------------------------------------------------------\u001b[0m",
      "\u001b[1;31mKeyboardInterrupt\u001b[0m                         Traceback (most recent call last)",
      "Cell \u001b[1;32mIn[41], line 8\u001b[0m\n\u001b[0;32m      6\u001b[0m \u001b[38;5;28;01mif\u001b[39;00m eps \u001b[38;5;241m<\u001b[39m np\u001b[38;5;241m.\u001b[39mrandom\u001b[38;5;241m.\u001b[39muniform() : action \u001b[38;5;241m=\u001b[39m np\u001b[38;5;241m.\u001b[39mrandom\u001b[38;5;241m.\u001b[39mrandint(low\u001b[38;5;241m=\u001b[39m\u001b[38;5;241m0\u001b[39m,high\u001b[38;5;241m=\u001b[39m\u001b[38;5;241m3\u001b[39m,size\u001b[38;5;241m=\u001b[39m\u001b[38;5;241m1\u001b[39m)[\u001b[38;5;241m0\u001b[39m]; \n\u001b[0;32m      7\u001b[0m \u001b[38;5;28;01melse\u001b[39;00m: action \u001b[38;5;241m=\u001b[39m Q\u001b[38;5;241m.\u001b[39margmax(); \n\u001b[1;32m----> 8\u001b[0m reward \u001b[38;5;241m=\u001b[39m \u001b[38;5;28mint\u001b[39m(\u001b[38;5;28;43minput\u001b[39;49m\u001b[43m(\u001b[49m\u001b[38;5;124;43mf\u001b[39;49m\u001b[38;5;124;43m'\u001b[39;49m\u001b[38;5;124;43mAdvertisement number \u001b[39;49m\u001b[38;5;132;43;01m{\u001b[39;49;00m\u001b[43maction\u001b[49m\u001b[38;5;241;43m+\u001b[39;49m\u001b[38;5;241;43m1\u001b[39;49m\u001b[38;5;132;43;01m}\u001b[39;49;00m\u001b[38;5;124;43m'\u001b[39;49m\u001b[43m)\u001b[49m);\n\u001b[0;32m      9\u001b[0m S[action]\u001b[38;5;241m+\u001b[39m\u001b[38;5;241m=\u001b[39mreward; \n\u001b[0;32m     10\u001b[0m N[action]\u001b[38;5;241m+\u001b[39m\u001b[38;5;241m=\u001b[39m\u001b[38;5;241m1\u001b[39m; \n",
      "File \u001b[1;32m~\\AppData\\Local\\Programs\\Python\\Python313\\Lib\\site-packages\\ipykernel\\kernelbase.py:1282\u001b[0m, in \u001b[0;36mKernel.raw_input\u001b[1;34m(self, prompt)\u001b[0m\n\u001b[0;32m   1280\u001b[0m     msg \u001b[38;5;241m=\u001b[39m \u001b[38;5;124m\"\u001b[39m\u001b[38;5;124mraw_input was called, but this frontend does not support input requests.\u001b[39m\u001b[38;5;124m\"\u001b[39m\n\u001b[0;32m   1281\u001b[0m     \u001b[38;5;28;01mraise\u001b[39;00m StdinNotImplementedError(msg)\n\u001b[1;32m-> 1282\u001b[0m \u001b[38;5;28;01mreturn\u001b[39;00m \u001b[38;5;28;43mself\u001b[39;49m\u001b[38;5;241;43m.\u001b[39;49m\u001b[43m_input_request\u001b[49m\u001b[43m(\u001b[49m\n\u001b[0;32m   1283\u001b[0m \u001b[43m    \u001b[49m\u001b[38;5;28;43mstr\u001b[39;49m\u001b[43m(\u001b[49m\u001b[43mprompt\u001b[49m\u001b[43m)\u001b[49m\u001b[43m,\u001b[49m\n\u001b[0;32m   1284\u001b[0m \u001b[43m    \u001b[49m\u001b[38;5;28;43mself\u001b[39;49m\u001b[38;5;241;43m.\u001b[39;49m\u001b[43m_parent_ident\u001b[49m\u001b[43m[\u001b[49m\u001b[38;5;124;43m\"\u001b[39;49m\u001b[38;5;124;43mshell\u001b[39;49m\u001b[38;5;124;43m\"\u001b[39;49m\u001b[43m]\u001b[49m\u001b[43m,\u001b[49m\n\u001b[0;32m   1285\u001b[0m \u001b[43m    \u001b[49m\u001b[38;5;28;43mself\u001b[39;49m\u001b[38;5;241;43m.\u001b[39;49m\u001b[43mget_parent\u001b[49m\u001b[43m(\u001b[49m\u001b[38;5;124;43m\"\u001b[39;49m\u001b[38;5;124;43mshell\u001b[39;49m\u001b[38;5;124;43m\"\u001b[39;49m\u001b[43m)\u001b[49m\u001b[43m,\u001b[49m\n\u001b[0;32m   1286\u001b[0m \u001b[43m    \u001b[49m\u001b[43mpassword\u001b[49m\u001b[38;5;241;43m=\u001b[39;49m\u001b[38;5;28;43;01mFalse\u001b[39;49;00m\u001b[43m,\u001b[49m\n\u001b[0;32m   1287\u001b[0m \u001b[43m\u001b[49m\u001b[43m)\u001b[49m\n",
      "File \u001b[1;32m~\\AppData\\Local\\Programs\\Python\\Python313\\Lib\\site-packages\\ipykernel\\kernelbase.py:1325\u001b[0m, in \u001b[0;36mKernel._input_request\u001b[1;34m(self, prompt, ident, parent, password)\u001b[0m\n\u001b[0;32m   1322\u001b[0m \u001b[38;5;28;01mexcept\u001b[39;00m \u001b[38;5;167;01mKeyboardInterrupt\u001b[39;00m:\n\u001b[0;32m   1323\u001b[0m     \u001b[38;5;66;03m# re-raise KeyboardInterrupt, to truncate traceback\u001b[39;00m\n\u001b[0;32m   1324\u001b[0m     msg \u001b[38;5;241m=\u001b[39m \u001b[38;5;124m\"\u001b[39m\u001b[38;5;124mInterrupted by user\u001b[39m\u001b[38;5;124m\"\u001b[39m\n\u001b[1;32m-> 1325\u001b[0m     \u001b[38;5;28;01mraise\u001b[39;00m \u001b[38;5;167;01mKeyboardInterrupt\u001b[39;00m(msg) \u001b[38;5;28;01mfrom\u001b[39;00m\u001b[38;5;250m \u001b[39m\u001b[38;5;28;01mNone\u001b[39;00m\n\u001b[0;32m   1326\u001b[0m \u001b[38;5;28;01mexcept\u001b[39;00m \u001b[38;5;167;01mException\u001b[39;00m:\n\u001b[0;32m   1327\u001b[0m     \u001b[38;5;28mself\u001b[39m\u001b[38;5;241m.\u001b[39mlog\u001b[38;5;241m.\u001b[39mwarning(\u001b[38;5;124m\"\u001b[39m\u001b[38;5;124mInvalid Message:\u001b[39m\u001b[38;5;124m\"\u001b[39m, exc_info\u001b[38;5;241m=\u001b[39m\u001b[38;5;28;01mTrue\u001b[39;00m)\n",
      "\u001b[1;31mKeyboardInterrupt\u001b[0m: Interrupted by user"
     ]
    }
   ],
   "source": [
    "eps = 0.15;\n",
    "Q = np.zeros(3); \n",
    "S = np.zeros(3); \n",
    "N = np.zeros(3);\n",
    "while 1 : \n",
    "    if eps < np.random.uniform() : action = np.random.randint(low=0,high=3,size=1)[0]; \n",
    "    else: action = Q.argmax(); \n",
    "    reward = int(input(f'Advertisement number {action+1}'));\n",
    "    S[action]+=reward; \n",
    "    N[action]+=1; \n",
    "    Q[action] = S[action]/N[action];"
   ]
  },
  {
   "cell_type": "code",
   "execution_count": 42,
   "id": "e89d1281-4cc2-4d2c-ba5e-cad2e51de9ca",
   "metadata": {},
   "outputs": [
    {
     "data": {
      "text/plain": [
       "array([0.73333333, 0.53846154, 0.7       ])"
      ]
     },
     "execution_count": 42,
     "metadata": {},
     "output_type": "execute_result"
    }
   ],
   "source": [
    "Q"
   ]
  },
  {
   "cell_type": "code",
   "execution_count": 48,
   "id": "c83a4ea9-7b8e-45be-9131-a7cb80601683",
   "metadata": {},
   "outputs": [],
   "source": [
    "eps = 0.15;\n",
    "Q = np.zeros(3); \n",
    "S = np.zeros(3); \n",
    "N = np.zeros(3);\n",
    "for i in range(10000): \n",
    "    if eps < np.random.uniform() : action = np.random.randint(low=0,high=3,size=1)[0]; \n",
    "    else: action = Q.argmax(); \n",
    "    # For simulation only : \n",
    "    if action ==0 : reward = np.random.choice([0,1],p=[0.2,0.8]); \n",
    "    elif action==1 : reward = np.random.choice([0,1],p=[0.8,0.2]);\n",
    "    else : reward = np.random.choice([0,1],p=[0.4,0.6]);\n",
    "    S[action]+=reward; \n",
    "    N[action]+=1; \n",
    "    Q[action] = S[action]/N[action];"
   ]
  },
  {
   "cell_type": "code",
   "execution_count": 49,
   "id": "8c73aa5e-d18b-4bd1-ae70-7396b5e51cb0",
   "metadata": {},
   "outputs": [
    {
     "data": {
      "text/plain": [
       "array([0.79990562, 0.18285517, 0.59602649])"
      ]
     },
     "execution_count": 49,
     "metadata": {},
     "output_type": "execute_result"
    }
   ],
   "source": [
    "Q"
   ]
  },
  {
   "cell_type": "code",
   "execution_count": null,
   "id": "28310cca-1f97-4027-a1bd-4b29de9b639b",
   "metadata": {},
   "outputs": [],
   "source": []
  }
 ],
 "metadata": {
  "kernelspec": {
   "display_name": "Python 3 (ipykernel)",
   "language": "python",
   "name": "python3"
  },
  "language_info": {
   "codemirror_mode": {
    "name": "ipython",
    "version": 3
   },
   "file_extension": ".py",
   "mimetype": "text/x-python",
   "name": "python",
   "nbconvert_exporter": "python",
   "pygments_lexer": "ipython3",
   "version": "3.13.0"
  }
 },
 "nbformat": 4,
 "nbformat_minor": 5
}
